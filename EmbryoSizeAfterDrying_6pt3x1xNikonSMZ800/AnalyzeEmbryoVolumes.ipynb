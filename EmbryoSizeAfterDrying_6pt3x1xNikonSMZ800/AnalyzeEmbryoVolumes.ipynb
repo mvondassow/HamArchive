{
 "cells": [
  {
   "cell_type": "markdown",
   "metadata": {},
   "source": [
    "# Volume changes in drying ribbons vs isolated embryos\n",
    "\n",
    "We wanted to know if a) embryos in drying ribbons experience the salinity change that one would expect based on the amount of water loss, and 2) if embryo volume (V) change in response to the salinity change in the same way that it would in isolated embryos. This suggests the following hypothesis:\n",
    "\n",
    "H1: $\\ V_{ribbon}(expected salinity) = V_{isolated}(measured salinity) $\n",
    "\n",
    "We don't know how V varies with salinity, but we can take the 'ideal osmometer' as a starting point, which suggests: $ V = a/salinity + b $\n",
    "\n",
    "So to test H1, we can do linear regression of embryo volume with 1/salinity\\*, to test the null hypothesis that there is no effect of treatment (ribbon vs isolated) or interaction effect of treatment and 1/salinity.\n",
    "\n",
    "Then, check for outliers and (visually) check for non-linearity.\n",
    "\n",
    "\\* Salinity is measured by refractometer in the case of the isolated embryos, and estimated based on mass loss in the case of embryos in ribbons. Estimated salinity is the seawater salinity measured with refractometer for ribbons that are not dried, and the seawater salinity multiplied by the initial ribbon weight and divided by final ribbon weight for dried ribbons."
   ]
  },
  {
   "cell_type": "markdown",
   "metadata": {},
   "source": [
    "### Steps for analyzing embryo volume files (THIS NOTEBOOK DOES STEPS 4-5)\n",
    "\n",
    "0) MANUALLY IN EXCEL: Create csv file with embryo image name, treatment (isolated embryos in salt solution or embryos in egg masses), and [expected] salinity.\n",
    "\n",
    "STEPS 1-3 DONE WITH 'AverageVolumeByRibbons.py' SCRIPT\n",
    "1) Read individual files: Check that 1) have 10 lines per and correct columns: raise error if they don't.\n",
    "\n",
    "2) Calculate XY centers of each selection and compare to selection (since index may go off, use positional index rather than ImageJ index). Check that XY centers are within <1 radius of each other.\n",
    "\n",
    "3) Calculate volume and mean volume per file.\n",
    "\n",
    "4) Plot volume vs 1/salinity\n",
    "\n",
    "5) Linear least-squares fit to 1/salinity for each treatment (linear regression model in statsmodel package).\n",
    "\n",
    "6) Check for outliers.\n",
    "\n",
    "7) FUTURE: Do fits for individual treatments and compare slopes & following Zar (1999) to check statsmodel outputs."
   ]
  },
  {
   "cell_type": "code",
   "execution_count": 8,
   "metadata": {
    "collapsed": true
   },
   "outputs": [],
   "source": [
    "# Data source used: Zygote data\n",
    "datafile = 'ZygoteVolumes_AveragedByRibbon.csv'"
   ]
  },
  {
   "cell_type": "code",
   "execution_count": 9,
   "metadata": {
    "collapsed": false
   },
   "outputs": [
    {
     "name": "stdout",
     "output_type": "stream",
     "text": [
      "Run on:  2016 December 19 - 08:43 AM\n",
      "data file updated:  2016 December 18 - 11:44 PM\n",
      "data: \n",
      "            File   TmntCat  Salinity  Volume  SE_Volume\n",
      "0   Z01_meas.xls    ribbon        30  308915      10047\n",
      "1   Z02_meas.xls  isolated        77  179511       5144\n",
      "2   Z04_meas.xls  isolated        63  211231       8972\n",
      "3   Z05_meas.xls  isolated        45  211847       4230\n",
      "4   Z08_meas.xls  isolated        32  308714      11027\n",
      "5   Z09_meas.xls  isolated        78  229721       5737\n",
      "6   Z10_meas.xls    ribbon        59  226462       3397\n",
      "7   Z11_meas.xls  isolated        32  303878       3739\n",
      "8   Z12_meas.xls  isolated        63  205285       3385\n",
      "9   Z13_meas.xls    ribbon        31  287287       6881\n",
      "10  Z14_meas.xls    ribbon       178  121329       2947\n",
      "11  Z15_meas.xls  isolated        48  253463       3749\n",
      "12  Z16_meas.xls  isolated        32  280322       6712\n",
      "13  Z17_meas.xls  isolated        48  245126      11889\n",
      "14  Z18_meas.xls  isolated        78  265027       9305\n",
      "15  Z19_meas.xls  isolated        46  207754      11979\n",
      "16  Z20_meas.xls    ribbon        97  218832      18094\n",
      "17  Z21_meas.xls    ribbon        30  321752       7018\n",
      "18  Z22_meas.xls  isolated        63  253435      17677\n",
      "19  Z23_meas.xls  isolated        32  248857       9540\n",
      "20  Z24_meas.xls  isolated        79  218020       3047\n",
      "21  Z26_meas.xls    ribbon        61  240338       4584\n",
      "22  Z27_meas.xls    ribbon        30  288412       8215\n",
      "23  Z28_meas.xls  isolated        63  242904       8380\n",
      "24  Z29_meas.xls    ribbon        62  210275      11953\n",
      "25  Z30_meas.xls    ribbon        68  241792       7200\n",
      "26  Z31_meas.xls    ribbon        42  256221       5479\n",
      "27  Z32_meas.xls    ribbon        44  222104       7093\n",
      "28  Z33_meas.xls    ribbon        30  261171       6778\n"
     ]
    }
   ],
   "source": [
    "import pandas\n",
    "import matplotlib.pyplot as plt\n",
    "import statsmodels.api as sm\n",
    "import time\n",
    "import numpy as np\n",
    "\n",
    "import os, sys\n",
    "lib_path = os.path.abspath('..')\n",
    "sys.path.append(lib_path)\n",
    "import hambits.stats as hs\n",
    "\n",
    "from patsy import dmatrices\n",
    "\n",
    "# Import selected data\n",
    "consdata = pandas.read_csv(datafile)\n",
    "\n",
    "tstyle = '%Y %B %d - %I:%M %p'\n",
    "print('Run on: ', time.strftime(tstyle))\n",
    "print('data file updated: ', \n",
    "      time.strftime(tstyle, time.gmtime(os.path.getmtime(datafile))))\n",
    "\n",
    "print('data: ')\n",
    "print(consdata[['File', 'TmntCat', 'Salinity', 'Volume', 'SE_Volume'\n",
    "                ]].round(decimals={'Salinity': 0, 'Volume': 0, 'SE_Volume': 0,\n",
    "                                 'InvSalinity': 3}))"
   ]
  },
  {
   "cell_type": "code",
   "execution_count": 10,
   "metadata": {
    "collapsed": false
   },
   "outputs": [],
   "source": [
    "# Generate plots\n",
    "%matplotlib inline\n",
    "tmntgrps = consdata.groupby('TmntCat')\n",
    "# Plot groups (by 1/salinity)\n",
    "fig1, ax1 = plt.subplots()\n",
    "for name, group in tmntgrps:\n",
    "    ax1.plot(group.InvSalinity, group.Volume, marker='o',  linestyle='', markersize=6,\n",
    "             label=name)\n",
    "ax1.legend(loc='lower right')\n",
    "ax1.set_ylabel('Volume, µm^3')\n",
    "ax1.set_xlabel('1/salinity, (1/ppt)')\n",
    "ax1.set_ylim((0, 350000))\n",
    "ax1.set_xlim(0, 0.04);"
   ]
  },
  {
   "cell_type": "code",
   "execution_count": 11,
   "metadata": {
    "collapsed": false
   },
   "outputs": [],
   "source": [
    "# Plot groups (by salinity)\n",
    "fig2, ax2 = plt.subplots()\n",
    "for name, group in tmntgrps:\n",
    "    ax2.plot(group.Salinity, group.Volume, marker='o', linestyle='', markersize=6,\n",
    "             label=name)\n",
    "ax2.legend(loc='lower right')\n",
    "ax2.set_ylabel('Volume, µm^3')\n",
    "ax2.set_xlabel('salinity, ppt')\n",
    "ax2.set_ylim((0, 350000))\n",
    "ax2.set_xlim(0, 200);"
   ]
  },
  {
   "cell_type": "code",
   "execution_count": 12,
   "metadata": {
    "collapsed": false
   },
   "outputs": [
    {
     "name": "stdout",
     "output_type": "stream",
     "text": [
      "                            OLS Regression Results                            \n",
      "==============================================================================\n",
      "Dep. Variable:                 Volume   R-squared:                       0.646\n",
      "Model:                            OLS   Adj. R-squared:                  0.604\n",
      "Method:                 Least Squares   F-statistic:                     15.23\n",
      "Date:                Mon, 19 Dec 2016   Prob (F-statistic):           7.66e-06\n",
      "Time:                        08:43:01   Log-Likelihood:                -334.99\n",
      "No. Observations:                  29   AIC:                             678.0\n",
      "Df Residuals:                      25   BIC:                             683.5\n",
      "Df Model:                           3                                         \n",
      "Covariance Type:            nonrobust                                         \n",
      "=================================================================================================\n",
      "                                    coef    std err          t      P>|t|      [95.0% Conf. Int.]\n",
      "-------------------------------------------------------------------------------------------------\n",
      "Intercept                      1.743e+05   2.08e+04      8.395      0.000      1.32e+05  2.17e+05\n",
      "TmntCat[T.ribbon]             -3.144e+04   2.84e+04     -1.107      0.279     -8.99e+04   2.7e+04\n",
      "InvSalinity                    3.309e+06   9.65e+05      3.429      0.002      1.32e+06   5.3e+06\n",
      "InvSalinity:TmntCat[T.ribbon]  1.295e+06   1.25e+06      1.037      0.310     -1.28e+06  3.87e+06\n",
      "==============================================================================\n",
      "Omnibus:                        2.283   Durbin-Watson:                   2.202\n",
      "Prob(Omnibus):                  0.319   Jarque-Bera (JB):                1.323\n",
      "Skew:                          -0.200   Prob(JB):                        0.516\n",
      "Kurtosis:                       2.033   Cond. No.                         332.\n",
      "==============================================================================\n",
      "\n",
      "Warnings:\n",
      "[1] Standard Errors assume that the covariance matrix of the errors is correctly specified.\n"
     ]
    }
   ],
   "source": [
    "# Analyze with linear regression: Test whether significant effect of TmntCat (ribbon vs isolated)\n",
    "# or interaction between TmntCat and InvSalinity\n",
    "y, X = dmatrices('Volume ~ TmntCat + InvSalinity + InvSalinity:TmntCat',\n",
    "                 data=consdata, return_type='dataframe')\n",
    "mod = sm.OLS(y, X)  # Describe model\n",
    "regression_result = mod.fit()  # Fit model\n",
    "print(regression_result.summary())"
   ]
  },
  {
   "cell_type": "code",
   "execution_count": 13,
   "metadata": {
    "collapsed": false
   },
   "outputs": [
    {
     "name": "stdout",
     "output_type": "stream",
     "text": [
      "Number of outliers detected:  None\n",
      "      MaxRs  MaxRsInd     Rcrit          Vals\n",
      "0  1.921751        14  2.892705  48331.878528\n",
      "1  1.914297        10  2.876209 -47377.260829\n",
      "2  1.701545        15  2.858923 -38451.089975\n",
      "3  1.806384         1  2.840774 -37735.145208\n",
      "4  1.889319         3  2.821681 -35955.871288\n",
      "5  2.046774        28  2.801551 -35117.341998\n",
      "6  1.960733        19  2.780277 -28816.660702\n",
      "7  2.014350        27  2.757735 -25608.273676\n",
      "8  2.027921         8  2.733780 -21510.319263\n",
      "9  1.906538         2  2.708246 -15564.434083\n"
     ]
    }
   ],
   "source": [
    "# Check for outliers (first term in dict is number of outliers)\n",
    "outlierresults = hs.GeneralizedESD(regression_result.resid.values, 10,\n",
    "                                   Alpha=0.05)\n",
    "print('Number of outliers detected: ', outlierresults[0])\n",
    "print(pandas.DataFrame(outlierresults[1]))"
   ]
  },
  {
   "cell_type": "code",
   "execution_count": 14,
   "metadata": {
    "collapsed": false
   },
   "outputs": [
    {
     "name": "stdout",
     "output_type": "stream",
     "text": [
      "                            OLS Regression Results                            \n",
      "==============================================================================\n",
      "Dep. Variable:                 Volume   R-squared:                       0.586\n",
      "Model:                            OLS   Adj. R-squared:                  0.535\n",
      "Method:                 Least Squares   F-statistic:                     11.34\n",
      "Date:                Mon, 19 Dec 2016   Prob (F-statistic):           7.96e-05\n",
      "Time:                        08:43:01   Log-Likelihood:                -321.15\n",
      "No. Observations:                  28   AIC:                             650.3\n",
      "Df Residuals:                      24   BIC:                             655.6\n",
      "Df Model:                           3                                         \n",
      "Covariance Type:            nonrobust                                         \n",
      "=================================================================================================\n",
      "                                    coef    std err          t      P>|t|      [95.0% Conf. Int.]\n",
      "-------------------------------------------------------------------------------------------------\n",
      "Intercept                      1.743e+05   1.92e+04      9.086      0.000      1.35e+05  2.14e+05\n",
      "TmntCat[T.ribbon]             -3260.8221    2.9e+04     -0.113      0.911      -6.3e+04  5.65e+04\n",
      "InvSalinity                    3.309e+06   8.92e+05      3.711      0.001      1.47e+06  5.15e+06\n",
      "InvSalinity:TmntCat[T.ribbon]  2.824e+05   1.24e+06      0.229      0.821     -2.27e+06  2.83e+06\n",
      "==============================================================================\n",
      "Omnibus:                        1.202   Durbin-Watson:                   2.269\n",
      "Prob(Omnibus):                  0.548   Jarque-Bera (JB):                0.890\n",
      "Skew:                          -0.073   Prob(JB):                        0.641\n",
      "Kurtosis:                       2.139   Cond. No.                         335.\n",
      "==============================================================================\n",
      "\n",
      "Warnings:\n",
      "[1] Standard Errors assume that the covariance matrix of the errors is correctly specified.\n"
     ]
    }
   ],
   "source": [
    "# Test if makes a difference if drop value with exceptionally high salinity\n",
    "consdata2 = consdata.drop(consdata[consdata['File'] == 'Z14_meas.xls'].index)\n",
    "y2, X2 = dmatrices('Volume ~ TmntCat + InvSalinity + InvSalinity:TmntCat',\n",
    "                   data=consdata2, return_type='dataframe')\n",
    "mod2 = sm.OLS(y2, X2)  # Describe model\n",
    "regression_result2 = mod2.fit()  # Fit model\n",
    "print(regression_result2.summary())"
   ]
  },
  {
   "cell_type": "code",
   "execution_count": 15,
   "metadata": {
    "collapsed": false
   },
   "outputs": [
    {
     "data": {
      "text/plain": [
       "[<matplotlib.lines.Line2D at 0xbb80470>]"
      ]
     },
     "execution_count": 15,
     "metadata": {},
     "output_type": "execute_result"
    }
   ],
   "source": [
    "# Plot with lines that were fit to all data.\n",
    "xlims=[0,0.04]\n",
    "ax1.plot(xlims, regression_result.predict(np.array([[1,0,xlims[0],0],\n",
    "                                                           [1,0,xlims[1],0]])), color='b')\n",
    "ax1.plot(xlims, regression_result.predict(np.array([[1,1,xlims[0],xlims[0]],\n",
    "                                                           [1,1,xlims[1], xlims[1]]])), color='g')\n",
    "fig1"
   ]
  },
  {
   "cell_type": "code",
   "execution_count": null,
   "metadata": {
    "collapsed": false
   },
   "outputs": [],
   "source": [
    "# Plot with lines that were fit to data with extreme salinity (lowest 1/salinity) point removed.\n",
    "xlims=[0,0.04]\n",
    "# remove last two lines added\n",
    "del ax1.lines[-2:]\n",
    "ax1.plot(xlims, regression_result2.predict(np.array([[1,0,xlims[0],0],\n",
    "                                                     [1,0,xlims[1],0]])), color='b')\n",
    "ax1.plot(xlims, regression_result2.predict(np.array([[1,1,xlims[0],xlims[0]],\n",
    "                                                     [1,1,xlims[1],xlims[1]]])), color='g')\n",
    "fig1"
   ]
  },
  {
   "cell_type": "code",
   "execution_count": null,
   "metadata": {
    "collapsed": true
   },
   "outputs": [],
   "source": []
  },
  {
   "cell_type": "code",
   "execution_count": null,
   "metadata": {
    "collapsed": true
   },
   "outputs": [],
   "source": []
  }
 ],
 "metadata": {
  "kernelspec": {
   "display_name": "Python 3",
   "language": "python",
   "name": "python3"
  },
  "language_info": {
   "codemirror_mode": {
    "name": "ipython",
    "version": 3
   },
   "file_extension": ".py",
   "mimetype": "text/x-python",
   "name": "python",
   "nbconvert_exporter": "python",
   "pygments_lexer": "ipython3",
   "version": "3.5.2"
  }
 },
 "nbformat": 4,
 "nbformat_minor": 0
}
